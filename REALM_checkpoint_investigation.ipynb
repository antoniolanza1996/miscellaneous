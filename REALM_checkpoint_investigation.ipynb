{
  "nbformat": 4,
  "nbformat_minor": 0,
  "metadata": {
    "colab": {
      "name": "REALM_checkpoint_investigation.ipynb",
      "provenance": [],
      "collapsed_sections": []
    },
    "kernelspec": {
      "name": "python3",
      "display_name": "Python 3"
    }
  },
  "cells": [
    {
      "cell_type": "markdown",
      "metadata": {
        "id": "nqwQp5o5NbYp",
        "colab_type": "text"
      },
      "source": [
        "# REALM models after fine-tuning "
      ]
    },
    {
      "cell_type": "code",
      "metadata": {
        "id": "cAUlOBt8G56r",
        "colab_type": "code",
        "colab": {
          "base_uri": "https://localhost:8080/",
          "height": 153
        },
        "outputId": "9646512a-eb4d-41f5-eace-b6de0529dbd4"
      },
      "source": [
        "! mkdir download\n",
        "! gsutil -m cp -R gs://realm-data/orqa_wq_model_from_realm/export/best_default/checkpoint/ download\n",
        "! ls download/checkpoint/"
      ],
      "execution_count": 1,
      "outputs": [
        {
          "output_type": "stream",
          "text": [
            "Copying gs://realm-data/orqa_wq_model_from_realm/export/best_default/checkpoint/model.ckpt-205020.data-00000-of-00002...\n",
            "/ [0/4 files][    0.0 B/  2.6 GiB]   0% Done                                    \rCopying gs://realm-data/orqa_wq_model_from_realm/export/best_default/checkpoint/model.ckpt-205020.index...\n",
            "/ [0/4 files][    0.0 B/  2.6 GiB]   0% Done                                    \rCopying gs://realm-data/orqa_wq_model_from_realm/export/best_default/checkpoint/model.ckpt-205020.data-00001-of-00002...\n",
            "Copying gs://realm-data/orqa_wq_model_from_realm/export/best_default/checkpoint/model.ckpt-205020.meta...\n",
            "\\ [4/4 files][  2.6 GiB/  2.6 GiB] 100% Done  25.1 MiB/s ETA 00:00:00           \n",
            "Operation completed over 4 objects/2.6 GiB.                                      \n",
            "model.ckpt-205020.data-00000-of-00002  model.ckpt-205020.index\n",
            "model.ckpt-205020.data-00001-of-00002  model.ckpt-205020.meta\n"
          ],
          "name": "stdout"
        }
      ]
    },
    {
      "cell_type": "code",
      "metadata": {
        "id": "UOwUy4juHdUA",
        "colab_type": "code",
        "colab": {}
      },
      "source": [
        "import tensorflow.compat.v1 as tf\n",
        "import os\n",
        "\n",
        "best_model_dir=\"download/checkpoint\"\n",
        "\n",
        "best_checkpoint_pattern = os.path.join(best_model_dir, \"*.index\")\n",
        "best_checkpoint = tf.io.gfile.glob(best_checkpoint_pattern)[0][:-len(\".index\")]\n",
        "\n",
        "best_model_REALM_NQ=tf.train.load_checkpoint(best_checkpoint)"
      ],
      "execution_count": 2,
      "outputs": []
    },
    {
      "cell_type": "code",
      "metadata": {
        "id": "mUltIGhZG7Id",
        "colab_type": "code",
        "colab": {}
      },
      "source": [
        "variables_question_and_reader_encoder=[i for i in best_model_REALM_NQ.get_variable_to_dtype_map()]\n",
        "variables_question_and_reader_encoder=sorted(variables_question_and_reader_encoder)"
      ],
      "execution_count": 3,
      "outputs": []
    },
    {
      "cell_type": "code",
      "metadata": {
        "id": "NKcI9GAZG7Qn",
        "colab_type": "code",
        "colab": {
          "base_uri": "https://localhost:8080/",
          "height": 34
        },
        "outputId": "395a1653-18eb-4378-ba29-24be5bc0af89"
      },
      "source": [
        "print(\"Number of variables =\",len(variables_question_and_reader_encoder))"
      ],
      "execution_count": 4,
      "outputs": [
        {
          "output_type": "stream",
          "text": [
            "Number of variables = 1231\n"
          ],
          "name": "stdout"
        }
      ]
    },
    {
      "cell_type": "code",
      "metadata": {
        "id": "SEFWpNdkIdN6",
        "colab_type": "code",
        "colab": {
          "base_uri": "https://localhost:8080/",
          "height": 187
        },
        "outputId": "90374db8-a728-4b01-cc5f-586afd1259bf"
      },
      "source": [
        "variables_question_and_reader_encoder[900:910] #dummy example"
      ],
      "execution_count": 5,
      "outputs": [
        {
          "output_type": "execute_result",
          "data": {
            "text/plain": [
              "['reader/module/bert/encoder/layer_3/attention/self/key/bias',\n",
              " 'reader/module/bert/encoder/layer_3/attention/self/key/bias/adam_m',\n",
              " 'reader/module/bert/encoder/layer_3/attention/self/key/bias/adam_v',\n",
              " 'reader/module/bert/encoder/layer_3/attention/self/key/kernel',\n",
              " 'reader/module/bert/encoder/layer_3/attention/self/key/kernel/adam_m',\n",
              " 'reader/module/bert/encoder/layer_3/attention/self/key/kernel/adam_v',\n",
              " 'reader/module/bert/encoder/layer_3/attention/self/query/bias',\n",
              " 'reader/module/bert/encoder/layer_3/attention/self/query/bias/adam_m',\n",
              " 'reader/module/bert/encoder/layer_3/attention/self/query/bias/adam_v',\n",
              " 'reader/module/bert/encoder/layer_3/attention/self/query/kernel']"
            ]
          },
          "metadata": {
            "tags": []
          },
          "execution_count": 5
        }
      ]
    },
    {
      "cell_type": "code",
      "metadata": {
        "id": "uNq4wRU7HwGL",
        "colab_type": "code",
        "colab": {
          "base_uri": "https://localhost:8080/",
          "height": 37
        },
        "outputId": "763afc4d-3c69-4ef8-f93a-8b6943d2a01b"
      },
      "source": [
        "variables_question_and_reader_encoder[40] #It should be a question encoder variable"
      ],
      "execution_count": 6,
      "outputs": [
        {
          "output_type": "execute_result",
          "data": {
            "application/vnd.google.colaboratory.intrinsic+json": {
              "type": "string"
            },
            "text/plain": [
              "'module/module/module/module/bert/encoder/layer_0/attention/self/key/bias'"
            ]
          },
          "metadata": {
            "tags": []
          },
          "execution_count": 6
        }
      ]
    },
    {
      "cell_type": "code",
      "metadata": {
        "id": "sDlDgiIWHyO9",
        "colab_type": "code",
        "colab": {
          "base_uri": "https://localhost:8080/",
          "height": 37
        },
        "outputId": "7ab5755d-7ef2-4ba1-fa1a-292779d78306"
      },
      "source": [
        "variables_question_and_reader_encoder[660] #It should be a reader encoder variable"
      ],
      "execution_count": 7,
      "outputs": [
        {
          "output_type": "execute_result",
          "data": {
            "application/vnd.google.colaboratory.intrinsic+json": {
              "type": "string"
            },
            "text/plain": [
              "'reader/module/bert/encoder/layer_0/attention/self/key/bias'"
            ]
          },
          "metadata": {
            "tags": []
          },
          "execution_count": 7
        }
      ]
    },
    {
      "cell_type": "markdown",
      "metadata": {
        "id": "Xy5TW4MaNSX7",
        "colab_type": "text"
      },
      "source": [
        "# Comparison between question and document encoder"
      ]
    },
    {
      "cell_type": "code",
      "metadata": {
        "id": "3GnYMnokJVF5",
        "colab_type": "code",
        "colab": {
          "base_uri": "https://localhost:8080/",
          "height": 204
        },
        "outputId": "a14ebfc6-f488-49b5-ee15-25a43735452c"
      },
      "source": [
        "#Download question encoder\n",
        "! gsutil -m cp -R gs://realm-data/cc_news_pretrained/embedder/ download"
      ],
      "execution_count": 8,
      "outputs": [
        {
          "output_type": "stream",
          "text": [
            "Copying gs://realm-data/cc_news_pretrained/embedder/assets/vocab.txt...\n",
            "/ [0/9 files][    0.0 B/  6.9 GiB]   0% Done                                    \rCopying gs://realm-data/cc_news_pretrained/embedder/saved_model.pb...\n",
            "/ [0/9 files][    0.0 B/  6.9 GiB]   0% Done                                    \rCopying gs://realm-data/cc_news_pretrained/embedder/encoded/checkpoint...\n",
            "/ [0/9 files][    0.0 B/  6.9 GiB]   0% Done                                    \rCopying gs://realm-data/cc_news_pretrained/embedder/encoded/encoded.ckpt.index...\n",
            "/ [0/9 files][    0.0 B/  6.9 GiB]   0% Done                                    \rCopying gs://realm-data/cc_news_pretrained/embedder/encoded/encoded.ckpt.data-00000-of-00001...\n",
            "/ [0/9 files][    0.0 B/  6.9 GiB]   0% Done                                    \rCopying gs://realm-data/cc_news_pretrained/embedder/tfhub_module.pb...\n",
            "/ [0/9 files][    0.0 B/  6.9 GiB]   0% Done                                    \rCopying gs://realm-data/cc_news_pretrained/embedder/variables/variables.data-00000-of-00001...\n",
            "/ [0/9 files][    0.0 B/  6.9 GiB]   0% Done                                    \rCopying gs://realm-data/cc_news_pretrained/embedder/encoded/encoded.ckpt.meta...\n",
            "Copying gs://realm-data/cc_news_pretrained/embedder/variables/variables.index...\n",
            "- [9/9 files][  6.9 GiB/  6.9 GiB] 100% Done  38.5 MiB/s ETA 00:00:00           \n",
            "Operation completed over 9 objects/6.9 GiB.                                      \n"
          ],
          "name": "stdout"
        }
      ]
    },
    {
      "cell_type": "code",
      "metadata": {
        "id": "Slo0cowRJnbw",
        "colab_type": "code",
        "colab": {
          "base_uri": "https://localhost:8080/",
          "height": 34
        },
        "outputId": "177b332b-8201-4343-b9cd-0a3d05c0704a"
      },
      "source": [
        "! ls download/embedder"
      ],
      "execution_count": 9,
      "outputs": [
        {
          "output_type": "stream",
          "text": [
            "assets\tencoded  saved_model.pb  tfhub_module.pb  variables\n"
          ],
          "name": "stdout"
        }
      ]
    },
    {
      "cell_type": "code",
      "metadata": {
        "id": "jdXps_n-JeEh",
        "colab_type": "code",
        "colab": {}
      },
      "source": [
        "embedder_model_path=\"download/embedder\"\n",
        "document_embedder_model = tf.saved_model.load_v2(embedder_model_path, tags={})"
      ],
      "execution_count": 10,
      "outputs": []
    },
    {
      "cell_type": "code",
      "metadata": {
        "id": "7mXosA2BI9b4",
        "colab_type": "code",
        "colab": {}
      },
      "source": [
        "variables_document_encoder = [x.name for x in document_embedder_model.variables]\n",
        "variables_document_encoder = sorted(variables_document_encoder)"
      ],
      "execution_count": 11,
      "outputs": []
    },
    {
      "cell_type": "code",
      "metadata": {
        "id": "wJyaLy3LKB9S",
        "colab_type": "code",
        "colab": {
          "base_uri": "https://localhost:8080/",
          "height": 34
        },
        "outputId": "951e1075-334d-4baa-a818-47b8fac5e61f"
      },
      "source": [
        "print(\"Number of variables =\",len(variables_document_encoder))"
      ],
      "execution_count": 12,
      "outputs": [
        {
          "output_type": "stream",
          "text": [
            "Number of variables = 208\n"
          ],
          "name": "stdout"
        }
      ]
    },
    {
      "cell_type": "code",
      "metadata": {
        "id": "JghfpUWOKCEo",
        "colab_type": "code",
        "colab": {
          "base_uri": "https://localhost:8080/",
          "height": 37
        },
        "outputId": "7e28fe22-61ea-48a7-85cd-ab5286c6465d"
      },
      "source": [
        "variables_document_encoder[23]"
      ],
      "execution_count": 13,
      "outputs": [
        {
          "output_type": "execute_result",
          "data": {
            "application/vnd.google.colaboratory.intrinsic+json": {
              "type": "string"
            },
            "text/plain": [
              "'module/module/module/bert/encoder/layer_0/output/dense/bias:0'"
            ]
          },
          "metadata": {
            "tags": []
          },
          "execution_count": 13
        }
      ]
    },
    {
      "cell_type": "markdown",
      "metadata": {
        "id": "962KocQcN9dw",
        "colab_type": "text"
      },
      "source": [
        "## We may compare the values for layer 0 output dense bias of BERT architecture, both for question and document encoder."
      ]
    },
    {
      "cell_type": "code",
      "metadata": {
        "id": "42kAltB3Kl2e",
        "colab_type": "code",
        "colab": {
          "base_uri": "https://localhost:8080/",
          "height": 34
        },
        "outputId": "db016fc9-e058-400e-d07c-7ec96b42194b"
      },
      "source": [
        "emb_document_encoder=[el for el in document_embedder_model.variables if el.name == 'module/module/module/bert/encoder/layer_0/output/dense/bias:0']\n",
        "emb_document_encoder=emb_document_encoder[0].numpy()\n",
        "emb_document_encoder.shape"
      ],
      "execution_count": 14,
      "outputs": [
        {
          "output_type": "execute_result",
          "data": {
            "text/plain": [
              "(768,)"
            ]
          },
          "metadata": {
            "tags": []
          },
          "execution_count": 14
        }
      ]
    },
    {
      "cell_type": "code",
      "metadata": {
        "id": "IcAqELXqKyPb",
        "colab_type": "code",
        "colab": {
          "base_uri": "https://localhost:8080/",
          "height": 34
        },
        "outputId": "b6f1b93f-4d62-4629-9b09-71ff3f8d5b73"
      },
      "source": [
        "emb_question_encoder=best_model_REALM_NQ.get_tensor('module/module/module/module/bert/encoder/layer_0/attention/self/key/bias')\n",
        "emb_question_encoder.shape"
      ],
      "execution_count": 15,
      "outputs": [
        {
          "output_type": "execute_result",
          "data": {
            "text/plain": [
              "(768,)"
            ]
          },
          "metadata": {
            "tags": []
          },
          "execution_count": 15
        }
      ]
    },
    {
      "cell_type": "code",
      "metadata": {
        "id": "7R5TxgETK5qO",
        "colab_type": "code",
        "colab": {
          "base_uri": "https://localhost:8080/",
          "height": 51
        },
        "outputId": "5953cf5a-d2be-42f4-9325-f186ec26be9e"
      },
      "source": [
        "emb_document_encoder[:5] #only pre-train"
      ],
      "execution_count": 16,
      "outputs": [
        {
          "output_type": "execute_result",
          "data": {
            "text/plain": [
              "array([-0.06116943,  0.20037939,  0.0269921 ,  0.03042587,  0.04369077],\n",
              "      dtype=float32)"
            ]
          },
          "metadata": {
            "tags": []
          },
          "execution_count": 16
        }
      ]
    },
    {
      "cell_type": "code",
      "metadata": {
        "id": "nBUEuQWrMv_e",
        "colab_type": "code",
        "colab": {
          "base_uri": "https://localhost:8080/",
          "height": 51
        },
        "outputId": "edf70dd3-ebf5-415a-e079-d15d192b63c6"
      },
      "source": [
        "emb_question_encoder[:5] #pre-train + fine-tuning. Indeed, the values are slightly different (I think due to fine-tuning)"
      ],
      "execution_count": 17,
      "outputs": [
        {
          "output_type": "execute_result",
          "data": {
            "text/plain": [
              "array([ 0.00263759, -0.00765959,  0.000136  , -0.00216489,  0.01256373],\n",
              "      dtype=float32)"
            ]
          },
          "metadata": {
            "tags": []
          },
          "execution_count": 17
        }
      ]
    }
  ]
}